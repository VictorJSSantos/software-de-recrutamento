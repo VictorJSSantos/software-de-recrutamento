{
  "nbformat": 4,
  "nbformat_minor": 0,
  "metadata": {
    "colab": {
      "provenance": []
    },
    "kernelspec": {
      "name": "python3",
      "display_name": "Python 3"
    },
    "language_info": {
      "name": "python"
    }
  },
  "cells": [
    {
      "cell_type": "code",
      "execution_count": 1,
      "metadata": {
        "colab": {
          "base_uri": "https://localhost:8080/"
        },
        "id": "mgpNk1e6N_In",
        "outputId": "ed091894-981d-400f-844b-27d755f20e11"
      },
      "outputs": [
        {
          "output_type": "stream",
          "name": "stdout",
          "text": [
            "\u001b[2K     \u001b[90m━━━━━━━━━━━━━━━━━━━━━━━━━━━━━━━━━━━━━━━━\u001b[0m \u001b[32m44.3/44.3 kB\u001b[0m \u001b[31m3.3 MB/s\u001b[0m eta \u001b[36m0:00:00\u001b[0m\n",
            "\u001b[2K   \u001b[90m━━━━━━━━━━━━━━━━━━━━━━━━━━━━━━━━━━━━━━━━\u001b[0m \u001b[32m9.9/9.9 MB\u001b[0m \u001b[31m56.5 MB/s\u001b[0m eta \u001b[36m0:00:00\u001b[0m\n",
            "\u001b[2K   \u001b[90m━━━━━━━━━━━━━━━━━━━━━━━━━━━━━━━━━━━━━━━━\u001b[0m \u001b[32m6.9/6.9 MB\u001b[0m \u001b[31m41.0 MB/s\u001b[0m eta \u001b[36m0:00:00\u001b[0m\n",
            "\u001b[2K   \u001b[90m━━━━━━━━━━━━━━━━━━━━━━━━━━━━━━━━━━━━━━━━\u001b[0m \u001b[32m79.1/79.1 kB\u001b[0m \u001b[31m4.0 MB/s\u001b[0m eta \u001b[36m0:00:00\u001b[0m\n",
            "\u001b[?25h✅ Código do app salvo em app.py com sucesso!\n"
          ]
        }
      ],
      "source": [
        "\n",
        "!pip install streamlit nest_asyncio aiohttp -q\n",
        "!npm install -g localtunnel > /dev/null\n",
        "\n",
        "import nest_asyncio\n",
        "nest_asyncio.apply()\n",
        "\n",
        "\n",
        "app_code = \"\"\"\n",
        "import streamlit as st\n",
        "import requests\n",
        "import pandas as pd\n",
        "\n",
        "BASE_URL = \"https://modulo5-app-production.up.railway.app/api\"\n",
        "\n",
        "def fetch_data():\n",
        "    endpoints = {\n",
        "        \"taxa_requests_http\": \"/metrics/http_requests_rate\",\n",
        "        \"total_requests_http\": \"/metrics/http_requests_total\",\n",
        "        \"taxa_requests_status\": \"/metrics/http_requests_rate_by_status_code\",\n",
        "        \"total_requests_status\": \"/metrics/http_requests_total_by_status_code\",\n",
        "        \"taxa_requests_method\": \"/metrics/http_requests_rate_by_method\",\n",
        "        \"total_requests_method\": \"/metrics/http_requests_total_by_method\",\n",
        "        \"latencia_media\": \"/metrics/http_requests_latency_average\"\n",
        "    }\n",
        "\n",
        "    data = {}\n",
        "    for key, endpoint in endpoints.items():\n",
        "        try:\n",
        "            response = requests.get(BASE_URL + endpoint)\n",
        "            if response.status_code == 200:\n",
        "                data[key] = response.json()\n",
        "            else:\n",
        "                data[key] = {\"error\": f\"Erro ao acessar {endpoint}: {response.status_code}\"}\n",
        "        except Exception as e:\n",
        "            data[key] = {\"error\": str(e)}\n",
        "    return data\n",
        "\n",
        "def main():\n",
        "    st.set_page_config(page_title=\"Dashboard HTTP Metrics\", layout=\"wide\")\n",
        "    st.title(\"📊 Dashboard de Métricas HTTP\")\n",
        "    st.markdown(\"Dados extraídos da API: https://modulo5-app-production.up.railway.app\")\n",
        "\n",
        "    with st.spinner(\"🔄 Carregando dados da API...\"):\n",
        "        data = fetch_data()\n",
        "\n",
        "    st.header(\"🚀 Indicadores Gerais\")\n",
        "\n",
        "    col1, col2, col3 = st.columns(3)\n",
        "    col1.metric(\"🔢 Taxa de Requests HTTP\", data['taxa_requests_http'].get(\"rate\", \"N/A\"))\n",
        "    col2.metric(\"📈 Total de Requests HTTP\", data['total_requests_http'].get(\"total\", \"N/A\"))\n",
        "    col3.metric(\"⏱️ Latência Média (ms)\", data['latencia_media'].get(\"latency_avg\", \"N/A\"))\n",
        "\n",
        "    st.divider()\n",
        "    st.header(\"📊 Taxa de Requests por Status Code\")\n",
        "    df_status_rate = pd.DataFrame(data['taxa_requests_status'].get(\"rates\", {}), index=[0]).T\n",
        "    df_status_rate.columns = [\"Taxa\"]\n",
        "    st.bar_chart(df_status_rate)\n",
        "\n",
        "    st.header(\"📊 Total de Requests por Status Code\")\n",
        "    df_status_total = pd.DataFrame(data['total_requests_status'].get(\"totals\", {}), index=[0]).T\n",
        "    df_status_total.columns = [\"Total\"]\n",
        "    st.bar_chart(df_status_total)\n",
        "\n",
        "    st.divider()\n",
        "    st.header(\"📊 Taxa de Requests por Método\")\n",
        "    df_method_rate = pd.DataFrame(data['taxa_requests_method'].get(\"rates\", {}), index=[0]).T\n",
        "    df_method_rate.columns = [\"Taxa\"]\n",
        "    st.bar_chart(df_method_rate)\n",
        "\n",
        "    st.header(\"📊 Total de Requests por Método\")\n",
        "    df_method_total = pd.DataFrame(data['total_requests_method'].get(\"totals\", {}), index=[0]).T\n",
        "    df_method_total.columns = [\"Total\"]\n",
        "    st.bar_chart(df_method_total)\n",
        "\n",
        "    st.success(\"✅ Dashboard carregado com sucesso!\")\n",
        "\n",
        "if __name__ == \"__main__\":\n",
        "    main()\n",
        "\"\"\"\n",
        "\n",
        "with open(\"app.py\", \"w\") as f:\n",
        "    f.write(app_code)\n",
        "\n",
        "print(\"✅ Código do app salvo em app.py com sucesso!\")\n"
      ]
    },
    {
      "cell_type": "code",
      "source": [
        "# Inicia o Streamlit e expõe o app com LocalTunnel\n",
        "\n",
        "!streamlit run app.py & npx localtunnel --port 8501\n"
      ],
      "metadata": {
        "colab": {
          "base_uri": "https://localhost:8080/"
        },
        "id": "AfVDGImcOYbe",
        "outputId": "04c89cb0-bea4-4d68-bad6-8bf41ed29572"
      },
      "execution_count": null,
      "outputs": [
        {
          "output_type": "stream",
          "name": "stdout",
          "text": [
            "\u001b[1G\u001b[0K⠙\u001b[1G\u001b[0K⠹\u001b[1G\u001b[0K⠸\u001b[1G\u001b[0K⠼\u001b[1G\u001b[0K⠴\u001b[1G\u001b[0K⠦\u001b[1G\u001b[0K⠧\u001b[1G\u001b[0K⠇\u001b[1G\u001b[0K⠏\u001b[1G\u001b[0K⠋\n",
            "Collecting usage statistics. To deactivate, set browser.gatherUsageStats to false.\n",
            "\u001b[0m\n",
            "\u001b[1G\u001b[0K⠙\u001b[1G\u001b[0K⠹\u001b[1G\u001b[0K⠸\u001b[1G\u001b[0K⠼\u001b[1G\u001b[0K⠴\u001b[1G\u001b[0K⠦\u001b[1G\u001b[0K⠧\u001b[1G\u001b[0K⠇\u001b[1G\u001b[0K\u001b[0m\n",
            "\u001b[34m\u001b[1m  You can now view your Streamlit app in your browser.\u001b[0m\n",
            "\u001b[0m\n",
            "\u001b[34m  Local URL: \u001b[0m\u001b[1mhttp://localhost:8501\u001b[0m\n",
            "\u001b[34m  Network URL: \u001b[0m\u001b[1mhttp://172.28.0.12:8501\u001b[0m\n",
            "\u001b[34m  External URL: \u001b[0m\u001b[1mhttp://34.16.180.219:8501\u001b[0m\n",
            "\u001b[0m\n",
            "your url is: https://afraid-phones-begin.loca.lt\n"
          ]
        }
      ]
    }
  ]
}