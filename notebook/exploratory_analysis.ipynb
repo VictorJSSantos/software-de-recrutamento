{
 "cells": [
  {
   "cell_type": "code",
   "execution_count": 14,
   "id": "2f51633f",
   "metadata": {},
   "outputs": [
    {
     "name": "stderr",
     "output_type": "stream",
     "text": [
      "C:\\Users\\tatia\\AppData\\Local\\Temp\\ipykernel_20084\\3404048465.py:3: DtypeWarning: Columns (33,41,45,46) have mixed types. Specify dtype option on import or set low_memory=False.\n",
      "  df_applicants = pd.read_csv(\"../data/processed/applicants_processed.csv\")\n"
     ]
    },
    {
     "name": "stdout",
     "output_type": "stream",
     "text": [
      "Index(['infos_basicas.telefone_recado', 'infos_basicas.telefone',\n",
      "       'infos_basicas.objetivo_profissional', 'infos_basicas.data_criacao',\n",
      "       'infos_basicas.inserido_por', 'infos_basicas.email',\n",
      "       'infos_basicas.local', 'infos_basicas.sabendo_de_nos_por',\n",
      "       'infos_basicas.data_atualizacao', 'infos_basicas.codigo_profissional',\n",
      "       ...\n",
      "       'embedding_290', 'embedding_291', 'embedding_292', 'embedding_293',\n",
      "       'embedding_294', 'embedding_295', 'embedding_296', 'embedding_297',\n",
      "       'embedding_298', 'embedding_299'],\n",
      "      dtype='object', length=350)\n"
     ]
    }
   ],
   "source": [
    "import pandas as pd\n",
    "\n",
    "df_applicants = pd.read_csv(\"../data/processed/applicants_processed.csv\")\n",
    "print(df_applicants.columns)\n"
   ]
  },
  {
   "cell_type": "code",
   "execution_count": 13,
   "id": "0d7b35aa",
   "metadata": {},
   "outputs": [
    {
     "name": "stderr",
     "output_type": "stream",
     "text": [
      "C:\\Users\\tatia\\AppData\\Local\\Temp\\ipykernel_20084\\2706402534.py:6: DtypeWarning: Columns (33,41,45,46) have mixed types. Specify dtype option on import or set low_memory=False.\n",
      "  df_applicants = pd.read_csv(\"../data/processed/applicants_processed.csv\")\n",
      "C:\\Users\\tatia\\AppData\\Local\\Temp\\ipykernel_20084\\2706402534.py:7: DtypeWarning: Columns (17,40) have mixed types. Specify dtype option on import or set low_memory=False.\n",
      "  df_vagas = pd.read_csv(\"../data/processed/vagas_processed.csv\")\n"
     ]
    },
    {
     "name": "stdout",
     "output_type": "stream",
     "text": [
      "Exemplo da coluna texto_unificado applicants:\n",
      "0     assistente administrativo\\n\\n\\nsantosbatista\\...\n",
      "1     formacao academica\\nensino medio 2o grau em e...\n",
      "2     objetivo area administrativa  financeira\\n\\nr...\n",
      "3     formacao\\nensino medio completo\\ninformatica ...\n",
      "4     ultima atualizacao em 09112021\\n sp\\n\\nensino...\n",
      "Name: texto_unificado, dtype: object\n",
      "Exemplo da coluna texto_unificado vagas:\n",
      "0     operation lead  operations lead\\n\\nroles  res...\n",
      "1     consultor ppqm senior consultor ppqm sr\\n\\n c...\n",
      "2     analista pljr c sql descricao  atividades\\n\\n...\n",
      "3     technical architect  11894809 descricaocoment...\n",
      "4     consultor sap authorization bca pleno  senior...\n",
      "Name: texto_unificado, dtype: object\n",
      "Embedding applicants (primeiras 5 linhas):\n",
      "   embedding_0  embedding_1  embedding_2  embedding_3  embedding_4  \\\n",
      "0          0.0          0.0     0.000000     0.000000     0.000000   \n",
      "1          0.0          0.0     0.048650     0.000000     0.092556   \n",
      "2          0.0          0.0     0.000000     0.000000     0.000000   \n",
      "3          0.0          0.0     0.000000     0.000000     0.000000   \n",
      "4          0.0          0.0     0.036006     0.036984     0.000000   \n",
      "\n",
      "   embedding_5  embedding_6  embedding_7  embedding_8  embedding_9  ...  \\\n",
      "0     0.000000     0.000000     0.000000     0.000000     0.000000  ...   \n",
      "1     0.000000     0.046486     0.139097     0.089142     0.089681  ...   \n",
      "2     0.000000     0.000000     0.000000     0.000000     0.000000  ...   \n",
      "3     0.000000     0.000000     0.000000     0.000000     0.000000  ...   \n",
      "4     0.069693     0.000000     0.000000     0.000000     0.000000  ...   \n",
      "\n",
      "   embedding_290  embedding_291  embedding_292  embedding_293  embedding_294  \\\n",
      "0            0.0            0.0       0.000000       0.000000            0.0   \n",
      "1            0.0            0.0       0.000000       0.248615            0.0   \n",
      "2            0.0            0.0       0.000000       0.073646            0.0   \n",
      "3            0.0            0.0       0.080635       0.094875            0.0   \n",
      "4            0.0            0.0       0.000000       0.000000            0.0   \n",
      "\n",
      "   embedding_295  embedding_296  embedding_297  embedding_298  embedding_299  \n",
      "0            0.0            0.0            0.0       0.000000            0.0  \n",
      "1            0.0            0.0            0.0       0.042602            0.0  \n",
      "2            0.0            0.0            0.0       0.000000            0.0  \n",
      "3            0.0            0.0            0.0       0.000000            0.0  \n",
      "4            0.0            0.0            0.0       0.031530            0.0  \n",
      "\n",
      "[5 rows x 300 columns]\n",
      "Embedding vagas (primeiras 5 linhas):\n",
      "   embedding_0  embedding_1  embedding_2  embedding_3  embedding_4  \\\n",
      "0          0.0          0.0      0.00000          0.0          0.0   \n",
      "1          0.0          0.0      0.00000          0.0          0.0   \n",
      "2          0.0          0.0      0.00000          0.0          0.0   \n",
      "3          0.0          0.0      0.08076          0.0          0.0   \n",
      "4          0.0          0.0      0.00000          0.0          0.0   \n",
      "\n",
      "   embedding_5  embedding_6  embedding_7  embedding_8  embedding_9  ...  \\\n",
      "0          0.0          0.0          0.0          0.0          0.0  ...   \n",
      "1          0.0          0.0          0.0          0.0          0.0  ...   \n",
      "2          0.0          0.0          0.0          0.0          0.0  ...   \n",
      "3          0.0          0.0          0.0          0.0          0.0  ...   \n",
      "4          0.0          0.0          0.0          0.0          0.0  ...   \n",
      "\n",
      "   embedding_290  embedding_291  embedding_292  embedding_293  embedding_294  \\\n",
      "0            0.0            0.0            0.0            0.0            0.0   \n",
      "1            0.0            0.0            0.0            0.0            0.0   \n",
      "2            0.0            0.0            0.0            0.0            0.0   \n",
      "3            0.0            0.0            0.0            0.0            0.0   \n",
      "4            0.0            0.0            0.0            0.0            0.0   \n",
      "\n",
      "   embedding_295  embedding_296  embedding_297  embedding_298  embedding_299  \n",
      "0       0.124849       0.047457        0.05647            0.0            0.0  \n",
      "1       0.000000       0.000000        0.00000            0.0            0.0  \n",
      "2       0.000000       0.000000        0.00000            0.0            0.0  \n",
      "3       0.000000       0.000000        0.00000            0.0            0.0  \n",
      "4       0.000000       0.000000        0.00000            0.0            0.0  \n",
      "\n",
      "[5 rows x 300 columns]\n",
      "Soma dos embeddings do primeiro applicant: 4.548189312632716\n",
      "Soma dos embeddings da primeira vaga: 4.517496874976082\n",
      "Applicant embedding sum: 0\n",
      "Vaga embedding sum: 0\n",
      "Colunas embedding applicants: []\n",
      "Colunas embedding vagas: []\n"
     ]
    },
    {
     "name": "stderr",
     "output_type": "stream",
     "text": [
      "\n",
      "KeyboardInterrupt\n",
      "\n"
     ]
    }
   ],
   "source": [
    "import pandas as pd\n",
    "import numpy as np\n",
    "from sklearn.metrics.pairwise import cosine_similarity\n",
    "\n",
    "# Carregar os dados processados\n",
    "df_applicants = pd.read_csv(\"../data/processed/applicants_processed.csv\")\n",
    "df_vagas = pd.read_csv(\"../data/processed/vagas_processed.csv\")\n",
    "\n",
    "print(\"Exemplo da coluna texto_unificado applicants:\")\n",
    "print(df_applicants[\"texto_unificado\"].head())\n",
    "\n",
    "print(\"Exemplo da coluna texto_unificado vagas:\")\n",
    "print(df_vagas[\"texto_unificado\"].head())\n",
    "\n",
    "\n",
    "# Define as colunas de embedding\n",
    "embedding_cols_applicant = [col for col in df_applicants.columns if col.startswith(\"texto_unificado_tfidf_\")]\n",
    "embedding_cols_vaga = [col for col in df_vagas.columns if col.startswith(\"texto_unificado_tfidf_\")]\n",
    "\n",
    "print(\"Embedding applicants (primeiras 5 linhas):\")\n",
    "print(df_applicants[[col for col in df_applicants.columns if col.startswith('embedding_')]].head())\n",
    "\n",
    "print(\"Embedding vagas (primeiras 5 linhas):\")\n",
    "print(df_vagas[[col for col in df_vagas.columns if col.startswith('embedding_')]].head())\n",
    "\n",
    "print(\"Soma dos embeddings do primeiro applicant:\", \n",
    "      df_applicants.loc[0, [col for col in df_applicants.columns if col.startswith('embedding_')]].sum())\n",
    "\n",
    "print(\"Soma dos embeddings da primeira vaga:\", \n",
    "      df_vagas.loc[0, [col for col in df_vagas.columns if col.startswith('embedding_')]].sum())\n",
    "\n",
    "\n",
    "# Pega o embedding do primeiro applicant e primeira vaga\n",
    "applicant_embedding = df_applicants.loc[0, embedding_cols_applicant].values.reshape(1, -1)\n",
    "vaga_embedding = df_vagas.loc[0, embedding_cols_vaga].values.reshape(1, -1)\n",
    "\n",
    "print(\"Applicant embedding sum:\", np.sum(applicant_embedding))\n",
    "print(\"Vaga embedding sum:\", np.sum(vaga_embedding))\n",
    "\n",
    "embedding_cols_applicant = [col for col in df_applicants.columns if col.startswith(\"texto_unificado_tfidf_\")]\n",
    "embedding_cols_vaga = [col for col in df_vagas.columns if col.startswith(\"texto_unificado_tfidf_\")]\n",
    "\n",
    "print(\"Colunas embedding applicants:\", embedding_cols_applicant)\n",
    "print(\"Colunas embedding vagas:\", embedding_cols_vaga)\n",
    "\n",
    "similarity = cosine_similarity(applicant_embedding, vaga_embedding)[0][0]\n",
    "print(f\"Similaridade cosine entre primeiro applicant e vaga: {similarity}\")\n"
   ]
  },
  {
   "cell_type": "code",
   "execution_count": 16,
   "id": "7900b712",
   "metadata": {},
   "outputs": [
    {
     "name": "stdout",
     "output_type": "stream",
     "text": [
      "3\n"
     ]
    }
   ],
   "source": [
    "import joblib\n",
    "modelo = joblib.load(\"../models/modelo_match.pkl\")\n",
    "print(modelo.n_features_in_)\n"
   ]
  }
 ],
 "metadata": {
  "kernelspec": {
   "display_name": "venv",
   "language": "python",
   "name": "python3"
  },
  "language_info": {
   "codemirror_mode": {
    "name": "ipython",
    "version": 3
   },
   "file_extension": ".py",
   "mimetype": "text/x-python",
   "name": "python",
   "nbconvert_exporter": "python",
   "pygments_lexer": "ipython3",
   "version": "3.12.7"
  }
 },
 "nbformat": 4,
 "nbformat_minor": 5
}
